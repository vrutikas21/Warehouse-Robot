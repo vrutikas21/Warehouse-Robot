{
  "nbformat": 4,
  "nbformat_minor": 0,
  "metadata": {
    "colab": {
      "provenance": [],
      "gpuType": "T4",
      "collapsed_sections": [
        "EB5EBibh__k_",
        "OVH3jNZObniU",
        "grmpyTKL_x0R",
        "U16Unzgren6J",
        "mL2ahlL6gg2p"
      ]
    },
    "kernelspec": {
      "name": "python3",
      "display_name": "Python 3"
    },
    "language_info": {
      "name": "python"
    },
    "accelerator": "GPU"
  },
  "cells": [
    {
      "cell_type": "markdown",
      "source": [
        "# **WAREHOUSE ROBOTS (Shortest Path):**"
      ],
      "metadata": {
        "id": "EB5EBibh__k_"
      }
    },
    {
      "cell_type": "markdown",
      "source": [
        "find shortest path\n",
        "Q-Learning Approach in Warehouse Robotics\n",
        "* Utilizes intelligent Q-learning to educate warehouse robots.\n",
        "* Guides robots with positive feedback for good actions and negative feedback for less-than-optimal ones.\n",
        "* Allows robots to learn and adjust methods on the go.\n",
        "* Increases efficiency by cleverly organizing and carrying out routes to desired locations.\n",
        "\n",
        "Component of Warehouse Robots:\n",
        "Warehouse Robot Overview\n",
        "* Agent(Robot): Responsible for order fulfilment.\n",
        "* Environment (warehouse): Includes items, aisles, shelves, and other robots.\n",
        "* State (Possible Travel Location): Represents all possible robot travel locations.\n",
        "* Action(Robot's movement) : up, down, right, or left.\n",
        "* Reward: Each state assigned a reward value, aiming to maximize total rewards and minimize punishments."
      ],
      "metadata": {
        "id": "PomS3jX9FdlF"
      }
    },
    {
      "cell_type": "markdown",
      "source": [
        "# **Importing necessary libraries:**"
      ],
      "metadata": {
        "id": "OVH3jNZObniU"
      }
    },
    {
      "cell_type": "code",
      "source": [
        "import numpy as np\n",
        "from matplotlib import colors\n",
        "from matplotlib import pyplot\n",
        "import matplotlib.patches as patches"
      ],
      "metadata": {
        "id": "2EgG8MPpqVGm"
      },
      "execution_count": 1,
      "outputs": []
    },
    {
      "cell_type": "markdown",
      "source": [
        "# Define the Warehouse Layout(Environment)"
      ],
      "metadata": {
        "id": "grmpyTKL_x0R"
      }
    },
    {
      "cell_type": "markdown",
      "source": [
        "Q-Learning AI Agent Environment\n",
        "* Environment comprises states, actions, and rewards.\n",
        "* States and actions are inputs, probable actions are outputs.\n",
        "* State representation includes potential warehouse spots (Black, white and yellow squares)\n",
        "* black squares : item storage areas,\n",
        "* white squares : possible path where robot can travel\n",
        "* green squares : packaging area\n",
        "* Green and black squares represent terminal states.\n",
        "\n",
        "AI Agent's Main Objective: Identifying Fastest Route\n",
        "* 121 (11 rows * 11 columns) potential warehouse states identified.\n",
        "* Each state has eleven rows and columns.\n",
        "* Row and column indexes used to identify each location."
      ],
      "metadata": {
        "id": "cNmEBMJQcAxW"
      }
    },
    {
      "cell_type": "code",
      "source": [
        "# Enviornment shape (states)\n",
        "environment_rows = 11\n",
        "environment_columns = 11\n",
        "\n",
        "#3D Numpy Array Creation\n",
        "# Contains 11 rows and 11 columns.\n",
        "# Includes a third \"action\" dimension with 4 layers.\n",
        "# Tracks Q-values for each possible action in each state.\n",
        "# Initializes each state and action pair to 0.\n",
        "q_values = np.zeros((environment_rows, environment_columns, 4))\n",
        "print(q_values)"
      ],
      "metadata": {
        "id": "MgvTe2GboR8N",
        "colab": {
          "base_uri": "https://localhost:8080/"
        },
        "outputId": "113b8075-b030-4f28-8a97-62c9eeb67719"
      },
      "execution_count": 2,
      "outputs": [
        {
          "output_type": "stream",
          "name": "stdout",
          "text": [
            "[[[0. 0. 0. 0.]\n",
            "  [0. 0. 0. 0.]\n",
            "  [0. 0. 0. 0.]\n",
            "  [0. 0. 0. 0.]\n",
            "  [0. 0. 0. 0.]\n",
            "  [0. 0. 0. 0.]\n",
            "  [0. 0. 0. 0.]\n",
            "  [0. 0. 0. 0.]\n",
            "  [0. 0. 0. 0.]\n",
            "  [0. 0. 0. 0.]\n",
            "  [0. 0. 0. 0.]]\n",
            "\n",
            " [[0. 0. 0. 0.]\n",
            "  [0. 0. 0. 0.]\n",
            "  [0. 0. 0. 0.]\n",
            "  [0. 0. 0. 0.]\n",
            "  [0. 0. 0. 0.]\n",
            "  [0. 0. 0. 0.]\n",
            "  [0. 0. 0. 0.]\n",
            "  [0. 0. 0. 0.]\n",
            "  [0. 0. 0. 0.]\n",
            "  [0. 0. 0. 0.]\n",
            "  [0. 0. 0. 0.]]\n",
            "\n",
            " [[0. 0. 0. 0.]\n",
            "  [0. 0. 0. 0.]\n",
            "  [0. 0. 0. 0.]\n",
            "  [0. 0. 0. 0.]\n",
            "  [0. 0. 0. 0.]\n",
            "  [0. 0. 0. 0.]\n",
            "  [0. 0. 0. 0.]\n",
            "  [0. 0. 0. 0.]\n",
            "  [0. 0. 0. 0.]\n",
            "  [0. 0. 0. 0.]\n",
            "  [0. 0. 0. 0.]]\n",
            "\n",
            " [[0. 0. 0. 0.]\n",
            "  [0. 0. 0. 0.]\n",
            "  [0. 0. 0. 0.]\n",
            "  [0. 0. 0. 0.]\n",
            "  [0. 0. 0. 0.]\n",
            "  [0. 0. 0. 0.]\n",
            "  [0. 0. 0. 0.]\n",
            "  [0. 0. 0. 0.]\n",
            "  [0. 0. 0. 0.]\n",
            "  [0. 0. 0. 0.]\n",
            "  [0. 0. 0. 0.]]\n",
            "\n",
            " [[0. 0. 0. 0.]\n",
            "  [0. 0. 0. 0.]\n",
            "  [0. 0. 0. 0.]\n",
            "  [0. 0. 0. 0.]\n",
            "  [0. 0. 0. 0.]\n",
            "  [0. 0. 0. 0.]\n",
            "  [0. 0. 0. 0.]\n",
            "  [0. 0. 0. 0.]\n",
            "  [0. 0. 0. 0.]\n",
            "  [0. 0. 0. 0.]\n",
            "  [0. 0. 0. 0.]]\n",
            "\n",
            " [[0. 0. 0. 0.]\n",
            "  [0. 0. 0. 0.]\n",
            "  [0. 0. 0. 0.]\n",
            "  [0. 0. 0. 0.]\n",
            "  [0. 0. 0. 0.]\n",
            "  [0. 0. 0. 0.]\n",
            "  [0. 0. 0. 0.]\n",
            "  [0. 0. 0. 0.]\n",
            "  [0. 0. 0. 0.]\n",
            "  [0. 0. 0. 0.]\n",
            "  [0. 0. 0. 0.]]\n",
            "\n",
            " [[0. 0. 0. 0.]\n",
            "  [0. 0. 0. 0.]\n",
            "  [0. 0. 0. 0.]\n",
            "  [0. 0. 0. 0.]\n",
            "  [0. 0. 0. 0.]\n",
            "  [0. 0. 0. 0.]\n",
            "  [0. 0. 0. 0.]\n",
            "  [0. 0. 0. 0.]\n",
            "  [0. 0. 0. 0.]\n",
            "  [0. 0. 0. 0.]\n",
            "  [0. 0. 0. 0.]]\n",
            "\n",
            " [[0. 0. 0. 0.]\n",
            "  [0. 0. 0. 0.]\n",
            "  [0. 0. 0. 0.]\n",
            "  [0. 0. 0. 0.]\n",
            "  [0. 0. 0. 0.]\n",
            "  [0. 0. 0. 0.]\n",
            "  [0. 0. 0. 0.]\n",
            "  [0. 0. 0. 0.]\n",
            "  [0. 0. 0. 0.]\n",
            "  [0. 0. 0. 0.]\n",
            "  [0. 0. 0. 0.]]\n",
            "\n",
            " [[0. 0. 0. 0.]\n",
            "  [0. 0. 0. 0.]\n",
            "  [0. 0. 0. 0.]\n",
            "  [0. 0. 0. 0.]\n",
            "  [0. 0. 0. 0.]\n",
            "  [0. 0. 0. 0.]\n",
            "  [0. 0. 0. 0.]\n",
            "  [0. 0. 0. 0.]\n",
            "  [0. 0. 0. 0.]\n",
            "  [0. 0. 0. 0.]\n",
            "  [0. 0. 0. 0.]]\n",
            "\n",
            " [[0. 0. 0. 0.]\n",
            "  [0. 0. 0. 0.]\n",
            "  [0. 0. 0. 0.]\n",
            "  [0. 0. 0. 0.]\n",
            "  [0. 0. 0. 0.]\n",
            "  [0. 0. 0. 0.]\n",
            "  [0. 0. 0. 0.]\n",
            "  [0. 0. 0. 0.]\n",
            "  [0. 0. 0. 0.]\n",
            "  [0. 0. 0. 0.]\n",
            "  [0. 0. 0. 0.]]\n",
            "\n",
            " [[0. 0. 0. 0.]\n",
            "  [0. 0. 0. 0.]\n",
            "  [0. 0. 0. 0.]\n",
            "  [0. 0. 0. 0.]\n",
            "  [0. 0. 0. 0.]\n",
            "  [0. 0. 0. 0.]\n",
            "  [0. 0. 0. 0.]\n",
            "  [0. 0. 0. 0.]\n",
            "  [0. 0. 0. 0.]\n",
            "  [0. 0. 0. 0.]\n",
            "  [0. 0. 0. 0.]]]\n"
          ]
        }
      ]
    },
    {
      "cell_type": "markdown",
      "source": [
        "#### Actions\n",
        "The Robot can move in four directions:\n",
        "* Up\n",
        "* Right\n",
        "* Down\n",
        "* Left\n",
        "\n",
        "The AI agent must learn to avoid driving into item storage area (Black squares)\n"
      ],
      "metadata": {
        "id": "ml1Pxm9VDcWe"
      }
    },
    {
      "cell_type": "code",
      "source": [
        "#actions for Robot (AI Agent)\n",
        "#numberic code for action: 0 = up, 1 = right, 2 = down, 3 = left\n",
        "actions = ['up', 'right', 'down', 'left']"
      ],
      "metadata": {
        "id": "u5msZtnZEHld"
      },
      "execution_count": 3,
      "outputs": []
    },
    {
      "cell_type": "markdown",
      "source": [
        "# **REWARD INITIALIZATION**"
      ],
      "metadata": {
        "id": "YvZAQwiicok8"
      }
    },
    {
      "cell_type": "markdown",
      "source": [
        "AI Agent Environment Specification\n",
        "* Each state in the warehouse is assigned a reward value for AI agent learning.\n",
        "* Agents can start at any white square, aiming to maximize overall rewards.\n",
        "* Negative incentives (penalties) are used for all states except the objective.\n",
        "By minimising its penalties, this motivates the AI to choose the quickest path to the objective!"
      ],
      "metadata": {
        "id": "_1mrGe3JEf-0"
      }
    },
    {
      "cell_type": "code",
      "source": [
        "#The awards for every state should be stored in a 2D numpy array.\n",
        "#Each value in the array is initialized to -100, and it has 11 rows and 11 columns to match the form of the Warehouse Environment.\n",
        "\n",
        "rewards = np.full((environment_rows, environment_columns), -100.)\n",
        "rewards[0, 5] = 100. #reward for the packaging area (Final Destination) = 100\n",
        "\n",
        "# assign rewards to aisle location to 1 where robot can travel or move from rows 1 to 9 (white square)\n",
        "aisles = {} #store locations in a dictionary\n",
        "aisles[1] = [i for i in range(1, 10)]\n",
        "aisles[2] = [1, 4, 7, 9]\n",
        "aisles[3] = [i for i in range(3, 10)]\n",
        "aisles[3].append(1)\n",
        "aisles[4] = [3, 7]\n",
        "aisles[5] = [i for i in range(11)]\n",
        "aisles[6] = [2, 5]\n",
        "aisles[7] = [i for i in range(1, 10)]\n",
        "aisles[8] = [3, 7]\n",
        "aisles[9] = [i for i in range(11)]\n",
        "\n",
        "#set the rewards for all aisle locations (i.e., white squares)\n",
        "for row_index in range(1, 10):\n",
        "  for column_index in aisles[row_index]:\n",
        "    rewards[row_index, column_index] = -1.\n",
        "\n",
        "#print rewards matrix\n",
        "for row in rewards:\n",
        "  print(row)"
      ],
      "metadata": {
        "colab": {
          "base_uri": "https://localhost:8080/"
        },
        "id": "EObgLSFboLho",
        "outputId": "37f4d59c-86d4-47d7-9fc8-28bd22fc30ef"
      },
      "execution_count": 4,
      "outputs": [
        {
          "output_type": "stream",
          "name": "stdout",
          "text": [
            "[-100. -100. -100. -100. -100.  100. -100. -100. -100. -100. -100.]\n",
            "[-100.   -1.   -1.   -1.   -1.   -1.   -1.   -1.   -1.   -1. -100.]\n",
            "[-100.   -1. -100. -100.   -1. -100. -100.   -1. -100.   -1. -100.]\n",
            "[-100.   -1. -100.   -1.   -1.   -1.   -1.   -1.   -1.   -1. -100.]\n",
            "[-100. -100. -100.   -1. -100. -100. -100.   -1. -100. -100. -100.]\n",
            "[-1. -1. -1. -1. -1. -1. -1. -1. -1. -1. -1.]\n",
            "[-100. -100.   -1. -100. -100.   -1. -100. -100. -100. -100. -100.]\n",
            "[-100.   -1.   -1.   -1.   -1.   -1.   -1.   -1.   -1.   -1. -100.]\n",
            "[-100. -100. -100.   -1. -100. -100. -100.   -1. -100. -100. -100.]\n",
            "[-1. -1. -1. -1. -1. -1. -1. -1. -1. -1. -1.]\n",
            "[-100. -100. -100. -100. -100. -100. -100. -100. -100. -100. -100.]\n"
          ]
        }
      ]
    },
    {
      "cell_type": "markdown",
      "source": [
        "From the above Grid , we set the reward value is 100 that is in the package area defined in the grid cell(0,5).Also we set the whitebox which is aisle location , that value is -1."
      ],
      "metadata": {
        "id": "Upu-bxXIdk8F"
      }
    },
    {
      "cell_type": "markdown",
      "source": [
        "# **Visualization of Grid-based Environment without Rewards**"
      ],
      "metadata": {
        "id": "U16Unzgren6J"
      }
    },
    {
      "cell_type": "code",
      "source": [
        "# Create a figure and axis\n",
        "\n",
        "fig, ax = pyplot.subplots(figsize=(14, 7))\n",
        "colormap = colors.ListedColormap([\"black\",\"white\",\"Yellow\"])\n",
        "# Display the grid\n",
        "ax.imshow(rewards, cmap=colormap)\n",
        "\n",
        "# Customize the ticks and labels to make it look like a grid\n",
        "ax.set_xticks(np.arange(-0.5, environment_rows, 1), minor=True)\n",
        "ax.set_yticks(np.arange(-0.5, environment_rows, 1), minor=True)\n",
        "ax.grid(which='minor', color='black', linestyle='-', linewidth=1)\n",
        "# Set aspect ratio to 'equal' for square cells\n",
        "ax.set_aspect('equal')\n",
        "pyplot.xticks(np.arange(0, environment_rows, 1))\n",
        "pyplot.yticks(np.arange(0, environment_columns, 1))\n",
        "# Show the plot\n",
        "pyplot.show()"
      ],
      "metadata": {
        "colab": {
          "base_uri": "https://localhost:8080/",
          "height": 0
        },
        "id": "QnhJm3b56UCG",
        "outputId": "7a00f444-ff62-44aa-d7f5-da0548faec2d"
      },
      "execution_count": 5,
      "outputs": [
        {
          "output_type": "display_data",
          "data": {
            "text/plain": [
              "<Figure size 1400x700 with 1 Axes>"
            ],
            "image/png": "[encoded data removed]"
          },
          "metadata": {}
        }
      ]
    },
    {
      "cell_type": "markdown",
      "source": [
        "# Visualization of Grid-based Environment with Rewards"
      ],
      "metadata": {
        "id": "mL2ahlL6gg2p"
      }
    },
    {
      "cell_type": "code",
      "source": [
        "# Create a figure and axis\n",
        "fig, ax = pyplot.subplots(figsize=(14, 7))\n",
        "colormap = colors.ListedColormap([\"black\",\"white\",\"Yellow\"])\n",
        "# Display the grid\n",
        "ax.imshow(rewards, cmap=colormap)\n",
        "\n",
        "# Customize the ticks and labels to make it look like a grid\n",
        "ax.set_xticks(np.arange(-0.5, environment_rows, 1), minor=True)\n",
        "ax.set_yticks(np.arange(-0.5, environment_rows, 1), minor=True)\n",
        "ax.grid(which='minor', color='black', linestyle='-', linewidth=1)\n",
        "# Set aspect ratio to 'equal' for square cells\n",
        "ax.set_aspect('equal')\n",
        "pyplot.xticks(np.arange(0, environment_rows, 1))\n",
        "pyplot.yticks(np.arange(0, environment_columns, 1))\n",
        "for i, row in enumerate(rewards):\n",
        "  for j, cellvalue in enumerate(row):\n",
        "    label = cellvalue\n",
        "    textcolor = \"black\"\n",
        "    if(label == -100):\n",
        "      textcolor = \"white\"\n",
        "    ax.text(j,i,label, ha='center', va='center', color=textcolor)\n",
        "\n",
        "# Show the plot\n",
        "pyplot.show()"
      ],
      "metadata": {
        "colab": {
          "base_uri": "https://localhost:8080/",
          "height": 0
        },
        "id": "t_RI7uDeoVss",
        "outputId": "0caf4642-f98a-4233-d59f-a8954143863e"
      },
      "execution_count": 6,
      "outputs": [
        {
          "output_type": "display_data",
          "data": {
            "text/plain": [
              "<Figure size 1400x700 with 1 Axes>"
            ],
            "image/png": "[encoded data removed]"
          },
          "metadata": {}
        }
      ]
    },
    {
      "cell_type": "markdown",
      "source": [
        "AI Agent Maximizing Rewards and Minimizing Penalties\n",
        "* Discover shortest pathways between item packing area(yellow square) and other warehouse areas (white squares)\n",
        "* Avoid collision with item storage places (Black squares)"
      ],
      "metadata": {
        "id": "6iuKeF9FfZ-2"
      }
    },
    {
      "cell_type": "markdown",
      "source": [
        "# **Train the model**\n",
        "AI Agent Learning Process\n",
        "* Teaching AI agent about surroundings using Q-learning model\n",
        "* Taking stages during learning process\n",
        "1. Choose white square for agent (Start Location of Robot: White Square)\n",
        "2. action selection using espilon algorithm : chooses most promising action, May occasionally select less promising options to encourage exploration\n",
        "3. Perform selected action and progress to next state\n",
        "4. Reward for New State Move and Update Q-value for previous state and action pair.\n",
        "5. if new state is terminal state, then start again with #1 else go to #2\n",
        "\n",
        "Repeated procedure over a thousand episodes allows AI agent to determine optimal routes for item packing, warehouse, and storage areas, preventing collisions."
      ],
      "metadata": {
        "id": "-ivQC8bPgCEL"
      }
    },
    {
      "cell_type": "code",
      "source": [
        "#define a function that checks to see if the given location is in a terminal condition\n",
        "def terminal_state(current_row_index, current_column_index):\n",
        "  #if the reward for this location is -1, then it is not a terminal state (i.e., it is a 'white square')\n",
        "  if rewards[current_row_index, current_column_index] == -1.:\n",
        "    return False\n",
        "  else:\n",
        "    return True"
      ],
      "metadata": {
        "id": "5IWU6LeADdga"
      },
      "execution_count": 7,
      "outputs": []
    },
    {
      "cell_type": "code",
      "source": [
        "#define a function that will select a non-terminal, random beginning point.\n",
        "def get_random_startpoint():\n",
        "  #get a random row and column index\n",
        "  current_row_index = np.random.randint(environment_rows)\n",
        "  current_column_index = np.random.randint(environment_columns)\n",
        "  #Until a non-terminal state is found, keep selecting random row and column indexes ('white square')\n",
        "  while terminal_state(current_row_index, current_column_index):\n",
        "    current_row_index = np.random.randint(environment_rows)\n",
        "    current_column_index = np.random.randint(environment_columns)\n",
        "  return current_row_index, current_column_index\n"
      ],
      "metadata": {
        "id": "aCF5SxQeS-zB"
      },
      "execution_count": 8,
      "outputs": []
    },
    {
      "cell_type": "code",
      "source": [
        "# Define an epsilon-greedy algorithm that will choose next action to be taken\n",
        "def get_next_action(current_row_index, current_column_index, epsilon):\n",
        "    if np.random.random() < epsilon:\n",
        "        return np.argmax(q_values[current_row_index, current_column_index])\n",
        "    else:\n",
        "        return np.random.randint(4)\n"
      ],
      "metadata": {
        "id": "VncstxyDTB6f"
      },
      "execution_count": 9,
      "outputs": []
    },
    {
      "cell_type": "code",
      "source": [
        "#define a function : depending on the selected action, will determine the next location\n",
        "def get_next_location(current_row_index, current_column_index, action_index):\n",
        "  new_row_index = current_row_index\n",
        "  new_column_index = current_column_index\n",
        "  if actions[action_index] == 'up' and current_row_index > 0:\n",
        "    new_row_index -= 1\n",
        "  elif actions[action_index] == 'right' and current_column_index < environment_columns - 1:\n",
        "    new_column_index += 1\n",
        "  elif actions[action_index] == 'down' and current_row_index < environment_rows - 1:\n",
        "    new_row_index += 1\n",
        "  elif actions[action_index] == 'left' and current_column_index > 0:\n",
        "    new_column_index -= 1\n",
        "  return new_row_index, new_column_index\n"
      ],
      "metadata": {
        "id": "QxItws2-TDnY"
      },
      "execution_count": 10,
      "outputs": []
    },
    {
      "cell_type": "code",
      "source": [
        "def get_shortest_path(start_row_index, start_column_index):\n",
        "  #return immediately if this is an invalid starting location\n",
        "  if terminal_state(start_row_index, start_column_index):\n",
        "    return []\n",
        "  else: #if this is a 'legal' starting location\n",
        "    current_row_index, current_column_index = start_row_index, start_column_index\n",
        "    shortest_path = []\n",
        "    shortest_path.append([current_row_index, current_column_index])\n",
        "    #continue moving along the path until we reach the goal (i.e., the item packaging location)\n",
        "    while not terminal_state(current_row_index, current_column_index):\n",
        "      #get the best action to take\n",
        "      action_index = get_next_action(current_row_index, current_column_index, 1.)\n",
        "      #move to the next location on the path, and add the new location to the list\n",
        "      current_row_index, current_column_index = get_next_location(current_row_index, current_column_index, action_index)\n",
        "      shortest_path.append([current_row_index, current_column_index])\n",
        "    return shortest_path"
      ],
      "metadata": {
        "id": "Tm7iEzyPTHaL"
      },
      "execution_count": 11,
      "outputs": []
    },
    {
      "cell_type": "markdown",
      "source": [
        "Function Definition and Greedy Algorithm\n",
        "* Defines function for beginning position and terminal state.\n",
        "* Uses Greedy algorithm to specify next action course.\n",
        "* Determines next step based on input epsilon.\n",
        "* Selects next position and updates row and column values.\n",
        "* Adds each location to shortest_path list until terminal state.\n",
        "* Provides index of best next action based on highest Q-values.\n",
        "* Returns empty list if beginning location is invalid."
      ],
      "metadata": {
        "id": "pblhvjNLgW-o"
      }
    },
    {
      "cell_type": "markdown",
      "source": [
        "# **Q -Table ACTION SELECTION**"
      ],
      "metadata": {
        "id": "1hSC4s9EoGYG"
      }
    },
    {
      "cell_type": "code",
      "source": [
        "def get_next_action(current_row_index, current_column_index, epsilon):\n",
        "    if np.random.random() < epsilon:\n",
        "        return np.argmax(q_values[current_row_index, current_column_index])\n",
        "    else:\n",
        "        return np.random.randint(4)"
      ],
      "metadata": {
        "id": "pBvqIWtoGo0U"
      },
      "execution_count": 12,
      "outputs": []
    },
    {
      "cell_type": "markdown",
      "source": [
        "# **Training Process**"
      ],
      "metadata": {
        "id": "fQF_DFWr6ayh"
      }
    },
    {
      "cell_type": "markdown",
      "source": [
        "Random Selection Process\n",
        "* Select highest Q value if random value is less than epsilon.\n",
        "* Otherwise, random action selected."
      ],
      "metadata": {
        "id": "gTHL3JLloWOq"
      }
    },
    {
      "cell_type": "code",
      "source": [
        "epsilon = 0.857\n",
        " #Percentage of Time for Best Action\n",
        "discount_factor = 0.9 #Discount Percentage for Upcoming Benefits\n",
        "learning_rate = 0.9 #Expected speed of learning\n",
        "for episode in range(1500):\n",
        "    row, col = get_random_startpoint()\n",
        "\n",
        "    while not terminal_state(row, col):\n",
        "        action = get_next_action(row, col, epsilon)\n",
        "        old_row, old_col = row, col\n",
        "        row, col = get_next_location(row, col, action)\n",
        "\n",
        "        reward = rewards[row, col]\n",
        "        old_q_value = q_values[old_row, old_col, action]\n",
        "        temporal_difference = reward + discount_factor * np.max(q_values[row, col]) - old_q_value\n",
        "\n",
        "        q_values[old_row, old_col, action] += learning_rate * temporal_difference\n",
        "\n",
        "print('Model Trained')"
      ],
      "metadata": {
        "colab": {
          "base_uri": "https://localhost:8080/"
        },
        "id": "2BNO8duHFbaZ",
        "outputId": "560a1572-9c9a-4bb2-8f63-cf58d33768fc"
      },
      "execution_count": 13,
      "outputs": [
        {
          "output_type": "stream",
          "name": "stdout",
          "text": [
            "Model Trained\n"
          ]
        }
      ]
    },
    {
      "cell_type": "markdown",
      "source": [
        "Training Process: 1000 Iterations\n",
        "* Initializes starting location and Proceeds to end location\n",
        "* Updates q values each action choice\n",
        "* Identifies difference between previous and current values and Updates q value accordingly"
      ],
      "metadata": {
        "id": "CC0ybHjYBsQN"
      }
    },
    {
      "cell_type": "markdown",
      "source": [
        "# **Finding Shortest Path from Random Starting Location**"
      ],
      "metadata": {
        "id": "fYVb-i64D9EZ"
      }
    },
    {
      "cell_type": "markdown",
      "source": [
        "choose the random start state then it wil call the shorest path function , it will return the shortest path."
      ],
      "metadata": {
        "id": "dAuzlyzxEGOI"
      }
    },
    {
      "cell_type": "code",
      "source": [
        "random_start_row, random_start_col = get_random_startpoint()\n",
        "shortest_path = get_shortest_path(random_start_row, random_start_col)\n",
        "print(f\"Shortest Path from Random Starting Location {random_start_row, random_start_col}:\", shortest_path)"
      ],
      "metadata": {
        "colab": {
          "base_uri": "https://localhost:8080/"
        },
        "id": "MCCGKzAUKJhJ",
        "outputId": "a2c45930-d1ba-48c7-d44b-2fdd6e933d9c"
      },
      "execution_count": 14,
      "outputs": [
        {
          "output_type": "stream",
          "name": "stdout",
          "text": [
            "Shortest Path from Random Starting Location (9, 3): [[9, 3], [8, 3], [7, 3], [7, 2], [6, 2], [5, 2], [5, 3], [4, 3], [3, 3], [3, 4], [2, 4], [1, 4], [1, 5], [0, 5]]\n"
          ]
        }
      ]
    },
    {
      "cell_type": "markdown",
      "source": [
        "# **Display path in Grid Environment**\n",
        "To display shortest path in Warehouse layout"
      ],
      "metadata": {
        "id": "vvKICUJ_Eldd"
      }
    },
    {
      "cell_type": "code",
      "source": [
        "def display_shortest_path(pathlist):\n",
        "  # Create a figure and axis\n",
        "  fig, ax = pyplot.subplots(figsize=(15, 6))\n",
        "  colormap = colors.ListedColormap([\"black\",\"white\",\"Yellow\"])\n",
        "  # Display the grid\n",
        "  ax.imshow(rewards, cmap=colormap)\n",
        "\n",
        "  # Customize the ticks and labels to make it look like a grid\n",
        "  ax.set_xticks(np.arange(-0.5, environment_rows, 1), minor=True)\n",
        "  ax.set_yticks(np.arange(-0.5, environment_rows, 1), minor=True)\n",
        "  ax.grid(which='minor', color='black', linestyle='-', linewidth=1)\n",
        "  # Set aspect ratio to 'equal' for square cells\n",
        "  ax.set_aspect('equal')\n",
        "  pyplot.xticks(np.arange(0, environment_rows, 1))\n",
        "  pyplot.yticks(np.arange(0, environment_columns, 1))\n",
        "\n",
        "  for i, path in enumerate(pathlist):\n",
        "      lable = \"\"\n",
        "      if(i == 0):\n",
        "        lable = \"Start\"\n",
        "        rect_location = (path[1]-0.5 , path[0]-0.5)  # (row, column)\n",
        "        rect = patches.Rectangle(rect_location, 1, 1, linewidth=1, facecolor='pink')\n",
        "        # Add the rectangle patch to the axis\n",
        "        ax.add_patch(rect)\n",
        "      elif(i == len(pathlist)-1):\n",
        "        lable = \"End\"\n",
        "      ax.text(path[1],path[0],lable, ha='center', va='center', color=\"black\")\n",
        "      if(lable == \"\"):\n",
        "        # Specify the location where you want to change the background color\n",
        "        rect_location = (path[1]-0.5 , path[0]-0.5)  # (row, column)\n",
        "        rect = patches.Rectangle(rect_location, 1, 1, linewidth=1, facecolor='skyblue')\n",
        "        # Add the rectangle patch to the axis\n",
        "        ax.add_patch(rect)\n",
        "\n",
        "  # Show the plot\n",
        "  pyplot.show()"
      ],
      "metadata": {
        "id": "Lhj2IeUuGq7R"
      },
      "execution_count": 15,
      "outputs": []
    },
    {
      "cell_type": "markdown",
      "source": [
        "Get the input from the user(start and end location) and Get Shortest path"
      ],
      "metadata": {
        "id": "VooLW3mQFD7G"
      }
    },
    {
      "cell_type": "code",
      "source": [
        "from IPython.display import clear_output\n",
        "print(\"Please Enter Start Location in warehouse\")\n",
        "# print(\"Please quit to stop\")\n",
        "# while(1):\n",
        "enter_row_index=input(\"\\nPlease enter row index from 0 to 10:\")\n",
        "# if enter_row_index.lower()  in ['quit']:\n",
        "#     break\n",
        "enter_column_index = input(\"Please enter column index from 0 to 10:\")\n",
        "# if enter_column_index.lower()  in ['quit']:\n",
        "#     break\n",
        "# else:\n",
        "clear_output(wait=True) # clear previous output\n",
        "paths = []\n",
        "if(int(enter_row_index) and int(enter_column_index)):\n",
        "  paths = get_shortest_path(int(enter_row_index), int(enter_column_index))\n",
        "  print(paths)\n",
        "  if(len(paths) > 0):\n",
        "    display_shortest_path(paths)\n",
        "  else:\n",
        "    print(\"Entered incorrect Start Location\")\n",
        "else:\n",
        "  print(\"Please enter correct value\")\n",
        ""
      ],
      "metadata": {
        "colab": {
          "base_uri": "https://localhost:8080/",
          "height": 539
        },
        "id": "675KCizXLIHv",
        "outputId": "0f919b45-4ff0-4e3b-d9e2-528bc883b10b"
      },
      "execution_count": 16,
      "outputs": [
        {
          "output_type": "stream",
          "name": "stdout",
          "text": [
            "[[8, 7], [7, 7], [7, 6], [7, 5], [6, 5], [5, 5], [5, 6], [5, 7], [4, 7], [3, 7], [2, 7], [1, 7], [1, 6], [1, 5], [0, 5]]\n"
          ]
        },
        {
          "output_type": "display_data",
          "data": {
            "text/plain": [
              "<Figure size 1500x600 with 1 Axes>"
            ],
            "image/png": "[encoded data removed]"
          },
          "metadata": {}
        }
      ]
    }
  ]
}